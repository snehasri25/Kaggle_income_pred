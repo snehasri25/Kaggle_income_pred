{
 "cells": [
  {
   "cell_type": "code",
   "execution_count": 1,
   "metadata": {},
   "outputs": [],
   "source": [
    "import pandas as pd\n",
    "import numpy as np  \n",
    "import matplotlib.pyplot as plt  \n",
    "#import seaborn as seabornInstance \n",
    "from sklearn.model_selection import train_test_split \n",
    "from sklearn.linear_model import LinearRegression\n",
    "from sklearn import metrics\n",
    "from sklearn.preprocessing import LabelEncoder\n",
    "from sklearn.preprocessing import OneHotEncoder\n",
    "from sklearn.preprocessing import StandardScaler\n",
    "#matplotlib inline\n"
   ]
  },
  {
   "cell_type": "code",
   "execution_count": 22,
   "metadata": {},
   "outputs": [
    {
     "name": "stdout",
     "output_type": "stream",
     "text": [
      "<class 'pandas.core.frame.DataFrame'>\n",
      "Int64Index: 111993 entries, 1 to 111993\n",
      "Data columns (total 11 columns):\n",
      "Year of Record       111552 non-null float64\n",
      "Gender               104561 non-null object\n",
      "Age                  111499 non-null float64\n",
      "Country              111993 non-null object\n",
      "Size of City         111993 non-null int64\n",
      "Profession           111671 non-null object\n",
      "University Degree    104623 non-null object\n",
      "Wears Glasses        111993 non-null int64\n",
      "Hair Color           104751 non-null object\n",
      "Body Height [cm]     111993 non-null int64\n",
      "Income in EUR        111993 non-null float64\n",
      "dtypes: float64(3), int64(3), object(5)\n",
      "memory usage: 10.3+ MB\n"
     ]
    }
   ],
   "source": [
    "train_ds = pd.read_csv(r'.\\data\\tcd ml 2019-20 income prediction training (with labels).csv',index_col='Instance')\n",
    "train_ds.shape\n",
    "#dataset.describe()\n",
    "train_ds.head(10)\n",
    "train_ds.info()\n",
    "\n",
    "train_ds = train_ds.rename(index=str, columns={\"Income in EUR\": \"Income\"})\n",
    "\n",
    "# concat testing data with training data\n",
    "test_ds = pd.read_csv(r'.\\data\\tcd ml 2019-20 income prediction test (without labels).csv',index_col='Instance')\n",
    "test_ds.shape\n",
    "test_ds.columns\n",
    "\n",
    "mixed_dataset = pd.concat([train_ds,test_ds], sort=False)"
   ]
  },
  {
   "cell_type": "code",
   "execution_count": 26,
   "metadata": {},
   "outputs": [
    {
     "data": {
      "text/plain": [
       "Index(['Year of Record', 'Gender', 'Age', 'Country', 'Size of City',\n",
       "       'Profession', 'University Degree', 'Wears Glasses', 'Hair Color',\n",
       "       'Body Height [cm]', 'Income'],\n",
       "      dtype='object')"
      ]
     },
     "execution_count": 26,
     "metadata": {},
     "output_type": "execute_result"
    }
   ],
   "source": [
    "mixed_dataset.columns"
   ]
  },
  {
   "cell_type": "code",
   "execution_count": 27,
   "metadata": {},
   "outputs": [
    {
     "data": {
      "text/plain": [
       "year of record         736\n",
       "gender               12294\n",
       "age                    773\n",
       "country                  0\n",
       "size of city             0\n",
       "profession             517\n",
       "university degree    12227\n",
       "wears glasses            0\n",
       "hair color           12158\n",
       "body height [cm]         0\n",
       "income in eur        73230\n",
       "dtype: int64"
      ]
     },
     "execution_count": 27,
     "metadata": {},
     "output_type": "execute_result"
    }
   ],
   "source": [
    "mixed_dataset.columns\n",
    "#rename columns\n",
    "mixed_dataset.rename(columns={\n",
    "        'Body Height [cm]': 'body_height_cm', \n",
    "    }, inplace=True)\n",
    "mixed_dataset.columns\n",
    "#changing titles of columns to lower case\n",
    "mixed_dataset.columns = [col.lower() for col in dataset]\n",
    "mixed_dataset.columns\n",
    "#checking for missing values in each column\n",
    "mixed_dataset.isnull().sum()"
   ]
  },
  {
   "cell_type": "code",
   "execution_count": 31,
   "metadata": {},
   "outputs": [
    {
     "data": {
      "text/plain": [
       "year of record       0\n",
       "gender               0\n",
       "age                  0\n",
       "country              0\n",
       "size of city         0\n",
       "profession           0\n",
       "university degree    0\n",
       "wears glasses        0\n",
       "hair color           0\n",
       "body_height_cm       0\n",
       "income               0\n",
       "dtype: int64"
      ]
     },
     "execution_count": 31,
     "metadata": {},
     "output_type": "execute_result"
    }
   ],
   "source": [
    "# filling null values with mean\n",
    "year.fillna(train_ds['year of record'].mean(), inplace=True)\n",
    "dataset.isnull().sum()\n",
    "\n",
    "# imputing missing values in age col\n",
    "age_rec= dataset['age']\n",
    "age_rec.head()\n",
    "age_mean = age_rec.mean()\n",
    "age_mean\n",
    "# filling out null values with mean\n",
    "age_rec.fillna(age_mean,inplace=True)\n",
    "dataset.isnull().sum()\n",
    "income_rec = dataset['income']\n",
    "income_mean = income_rec.mean()\n",
    "income_rec.fillna(income_mean,inplace=True)\n",
    "# fill profession, university degree and hair color as 'unknown'\n",
    "val = 'unknown'\n",
    "prof = dataset['profession']\n",
    "prof.fillna(val,inplace=True)\n",
    "deg = dataset['university degree']\n",
    "deg.fillna(val,inplace=True)\n",
    "hair = dataset['hair color']\n",
    "hair.fillna(val,inplace=True)\n",
    "gender_rec = dataset['gender']\n",
    "gender_rec.fillna(val,inplace=True)\n",
    "dataset.isnull().sum()\n"
   ]
  },
  {
   "cell_type": "code",
   "execution_count": 32,
   "metadata": {},
   "outputs": [],
   "source": [
    "# Loading X and y\n",
    "df = dataset"
   ]
  },
  {
   "cell_type": "code",
   "execution_count": 33,
   "metadata": {},
   "outputs": [
    {
     "name": "stdout",
     "output_type": "stream",
     "text": [
      "<class 'pandas.core.frame.DataFrame'>\n",
      "Index: 185223 entries, 1 to 185223\n",
      "Data columns (total 11 columns):\n",
      "year of record       185223 non-null float64\n",
      "gender               185223 non-null float64\n",
      "age                  185223 non-null float64\n",
      "country              185223 non-null float64\n",
      "size of city         185223 non-null int64\n",
      "profession           185223 non-null float64\n",
      "university degree    185223 non-null float64\n",
      "wears glasses        185223 non-null float64\n",
      "hair color           185223 non-null float64\n",
      "body_height_cm       185223 non-null int64\n",
      "income               185223 non-null float64\n",
      "dtypes: float64(9), int64(2)\n",
      "memory usage: 17.0+ MB\n"
     ]
    }
   ],
   "source": [
    "# target encoding\n",
    "df['gender'] = df['gender'].map(df.groupby('gender')['income'].mean())\n",
    "df['profession'] = df['profession'].map(df.groupby('profession')['income'].mean())\n",
    "df['university degree'] = df['university degree'].map(df.groupby('university degree')['income'].mean())\n",
    "df['wears glasses'] = df['wears glasses'].map(df.groupby('wears glasses')['income'].mean())\n",
    "df['hair color'] = df['hair color'].map(df.groupby('hair color')['income'].mean())\n",
    "df['country'] = df['country'].map(df.groupby('country')['income'].mean())\n",
    "X = df[['year of record', 'gender', 'age', 'country', 'size of city',\n",
    "       'profession', 'university degree', 'wears glasses', 'hair color',\n",
    "       'body_height_cm']].values\n",
    "y = df['income'].values\n",
    "# y_mean = df['income in eur'].mean()\n",
    "# y_mean\n",
    "df.info()"
   ]
  },
  {
   "cell_type": "code",
   "execution_count": 34,
   "metadata": {
    "scrolled": true
   },
   "outputs": [
    {
     "name": "stdout",
     "output_type": "stream",
     "text": [
      "Actual= [ 86732.29836 193067.9334   24755.40455 ...  57764.03192  23930.84193\n",
      " 161575.5267 ]\n",
      "Predicted= [134139.25608015 154146.93183218  61054.97855543 ... 120493.26275508\n",
      "  65281.01858202 156237.41342108]\n",
      "Root Mean Squared Error: 81224.72980971583\n",
      "Mean Absolute Error: 41995.05087986564\n",
      "Mean Squared Error: 6597456732.661341\n"
     ]
    }
   ],
   "source": [
    "#linear regression\n",
    "#train = data2[0:111994]\n",
    "X1 = X[0:111994]\n",
    "#X_test = X[111994:]\n",
    "y1 = y[0:111994]\n",
    "#y_test = y[111994:]\n",
    "X_train, X_test, y_train, y_test = train_test_split(X1, y1, test_size=0.2, random_state=0)\n",
    "#print(X_train)\n",
    "#print(y_train)\n",
    "regressor = LinearRegression()  \n",
    "regressor.fit(X_train, y_train)\n",
    "# coeff_df = pd.DataFrame(regressor.coef_, X.columns, columns=['Coefficient'])  \n",
    "# coeff_df\n",
    "y_pred = regressor.predict(X_test)\n",
    "df1 = pd.DataFrame({'Actual': y_test, 'Predicted': y_pred})\n",
    "print(\"Actual=\",y_test)\n",
    "print(\"Predicted=\",y_pred)\n",
    "df11 = df1.head(25)\n",
    "print('Root Mean Squared Error:', np.sqrt(metrics.mean_squared_error(y_test, y_pred)))\n",
    "print('Mean Absolute Error:', metrics.mean_absolute_error(y_test, y_pred))  \n",
    "print('Mean Squared Error:', metrics.mean_squared_error(y_test, y_pred))  "
   ]
  },
  {
   "cell_type": "code",
   "execution_count": 35,
   "metadata": {},
   "outputs": [
    {
     "name": "stdout",
     "output_type": "stream",
     "text": [
      "73230\n",
      "Predicted= [ 31544.7656344  -25237.74458739  40304.16715358 ...  95047.68345855\n",
      " 210034.12857595 192534.74133044]\n",
      "length of y2= 73230\n"
     ]
    }
   ],
   "source": [
    "# dt = pd.read_csv(r'C:\\Users\\SnehaSri\\OneDrive\\Documents\\Kaggle\\tcd ml 2019-20 income prediction test (without labels).csv',index_col='Instance')\n",
    "# dt.shape\n",
    "# dt.columns\n",
    "# # imputing null and missing values in year column\n",
    "# year= dt['Year of Record']\n",
    "# year.head()\n",
    "# year_mean = year.mean()\n",
    "# year_mean\n",
    "# # filling null values with mean\n",
    "# year.fillna(year_mean, inplace=True)\n",
    "# dt.isnull().sum()\n",
    "\n",
    "# # imputing missing values in age col\n",
    "# age_rec= dt['Age']\n",
    "# age_rec.head()\n",
    "# age_mean = age_rec.mean()\n",
    "# age_mean\n",
    "# # filling out null values with mean\n",
    "# age_rec.fillna(age_mean,inplace=True)\n",
    "# dt.isnull().sum()\n",
    "# # fill profession, university degree and hair color as 'unknown'\n",
    "# val = 'unknown'\n",
    "# prof = dt['Profession']\n",
    "# prof.fillna(val,inplace=True)\n",
    "# deg = dt['University Degree']\n",
    "# deg.fillna(val,inplace=True)\n",
    "# hair = dt['Hair Color']\n",
    "# hair.fillna(val,inplace=True)\n",
    "# gender_rec = dt['Gender']\n",
    "# gender_rec.fillna(val,inplace=True)\n",
    "# dt.isnull().sum()\n",
    "# dt.rename(columns={\n",
    "#         'Body Height [cm]': 'body_height_cm', \n",
    "#     }, inplace=True)\n",
    "# dt.columns\n",
    "# #changing titles of columns to lower case\n",
    "# dt.columns = [col.lower() for col in dt]\n",
    "# dt.columns\n",
    "# #checking for missing values in each column\n",
    "# dt.isnull().sum()\n",
    "\n",
    "# # target encoding\n",
    "# dt['gender'] = dt['gender'].map(dt.groupby('gender')[y_mean])\n",
    "# dt['profession'] = dt['profession'].map(dt.groupby('profession')[y_mean])\n",
    "# dt['university degree'] = dt['university degree'].map(dt.groupby('university degree')[y_mean])\n",
    "# dt['wears glasses'] = dt['wears glasses'].map(dt.groupby('wears glasses')[y_mean])\n",
    "# dt['hair color'] = dt['hair color'].map(dt.groupby('hair color')[y_mean])\n",
    "# dt['country'] = dt['country'].map(dt.groupby('country')[y_mean])\n",
    "# dt.info()\n",
    "# X1 = dt[['year of record', 'gender', 'age', 'country', 'size of city',\n",
    "#        'profession', 'university degree', 'wears glasses', 'hair color',\n",
    "#        'body_height_cm']].values\n",
    "# X1\n",
    "\n",
    "#finding correlation between columns. this function works only with continuous variables\n",
    "#dataset.corr()\n",
    "X2 = X[111993:]\n",
    "print(len(X2))\n",
    "y2 = regressor.predict(X2)\n",
    "print(\"Predicted=\",y2)\n",
    "\n",
    "n = len(y2)\n",
    "print(\"length of y2=\",n)\n",
    "\n",
    "with open(\"out_kaggle.txt\",\"w\") as f:\n",
    "    for i in y2:\n",
    "        f.write('%s\\n'%str(i))\n",
    "\n"
   ]
  }
 ],
 "metadata": {
  "kernelspec": {
   "display_name": "Python 3",
   "language": "python",
   "name": "python3"
  },
  "language_info": {
   "codemirror_mode": {
    "name": "ipython",
    "version": 3
   },
   "file_extension": ".py",
   "mimetype": "text/x-python",
   "name": "python",
   "nbconvert_exporter": "python",
   "pygments_lexer": "ipython3",
   "version": "3.7.3"
  }
 },
 "nbformat": 4,
 "nbformat_minor": 4
}
